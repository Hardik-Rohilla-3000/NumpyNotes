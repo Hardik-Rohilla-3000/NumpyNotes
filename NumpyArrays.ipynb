{
 "cells": [
  {
   "cell_type": "code",
   "execution_count": 6,
   "id": "52a5743e",
   "metadata": {},
   "outputs": [
    {
     "data": {
      "text/plain": [
       "array([1, 2, 3])"
      ]
     },
     "execution_count": 6,
     "metadata": {},
     "output_type": "execute_result"
    }
   ],
   "source": [
    "import numpy as np\n",
    "mylist = [1,2,3]\n",
    "newlist = np.array(mylist)  # this is how we can convert python array to numpy array\n",
    "newlist"
   ]
  },
  {
   "cell_type": "code",
   "execution_count": 7,
   "id": "b824ca87",
   "metadata": {},
   "outputs": [
    {
     "data": {
      "text/plain": [
       "array([[1, 2, 3],\n",
       "       [4, 5, 6],\n",
       "       [7, 8, 9]])"
      ]
     },
     "execution_count": 7,
     "metadata": {},
     "output_type": "execute_result"
    }
   ],
   "source": [
    "myMatrix = [[1,2,3],[4,5,6],[7,8,9]]\n",
    "myMatrix\n",
    "np.array(myMatrix)    #numpy will automatically detect that it is a 2D matrix"
   ]
  },
  {
   "cell_type": "code",
   "execution_count": 8,
   "id": "f5583d14",
   "metadata": {},
   "outputs": [
    {
     "data": {
      "text/plain": [
       "array([0, 1, 2, 3, 4, 5, 6, 7, 8, 9])"
      ]
     },
     "execution_count": 8,
     "metadata": {},
     "output_type": "execute_result"
    }
   ],
   "source": [
    "np.arange(0,10) #this is how we can create array in numpy \n",
    "                #Syntax :- np.arange(startpoint,endpoint(not included),steps(optional))"
   ]
  },
  {
   "cell_type": "code",
   "execution_count": 9,
   "id": "d95c6d0d",
   "metadata": {},
   "outputs": [
    {
     "data": {
      "text/plain": [
       "array([[0., 0., 0., 0., 0.],\n",
       "       [0., 0., 0., 0., 0.]])"
      ]
     },
     "execution_count": 9,
     "metadata": {},
     "output_type": "execute_result"
    }
   ],
   "source": [
    "np.zeros((2,5)) #how to create arrays of zeros\n",
    "                #Syntax :- np.zeros((rows,columns))\n",
    "                #similarly we can create arrays of ones\n",
    "                #syntax :- np.ones((rows,columns))"
   ]
  },
  {
   "cell_type": "code",
   "execution_count": 10,
   "id": "adff15c2",
   "metadata": {},
   "outputs": [
    {
     "data": {
      "text/plain": [
       "array([ 0.,  5., 10.])"
      ]
     },
     "execution_count": 10,
     "metadata": {},
     "output_type": "execute_result"
    }
   ],
   "source": [
    "np.linspace(0,10,3) #how to create arrays with linear spacing between elements\n",
    "                    #Syntax :- np.linspace(starpoint,endpoint(included),no of elements with linear spacing)\n",
    "                    #this is different with np.arange \n",
    "                    #in np.arange we decide the space between the elements not the no. of elements\n",
    "                    #in np.linspace we decide the no. of elements and the space between them is decided by the nympy itself"
   ]
  },
  {
   "cell_type": "code",
   "execution_count": 13,
   "id": "8ec53eb7",
   "metadata": {},
   "outputs": [
    {
     "data": {
      "text/plain": [
       "array([[1., 0., 0., 0., 0.],\n",
       "       [0., 1., 0., 0., 0.],\n",
       "       [0., 0., 1., 0., 0.],\n",
       "       [0., 0., 0., 1., 0.],\n",
       "       [0., 0., 0., 0., 1.]])"
      ]
     },
     "execution_count": 13,
     "metadata": {},
     "output_type": "execute_result"
    }
   ],
   "source": [
    "np.eye(5) #how to create identity matrix"
   ]
  },
  {
   "cell_type": "code",
   "execution_count": 16,
   "id": "918c4e10",
   "metadata": {},
   "outputs": [
    {
     "data": {
      "text/plain": [
       "array([[0.68546817, 0.21891842],\n",
       "       [0.6954986 , 0.50432831],\n",
       "       [0.63225171, 0.1601571 ],\n",
       "       [0.85832831, 0.49061854],\n",
       "       [0.65812796, 0.80573053]])"
      ]
     },
     "execution_count": 16,
     "metadata": {},
     "output_type": "execute_result"
    }
   ],
   "source": [
    "np.random.rand(5,2) #how to create a array of given shape and populate it with random values between 0-1(excluced)\n",
    "                    #Syntax :- np.random.rand(rows,columns)"
   ]
  },
  {
   "cell_type": "code",
   "execution_count": 18,
   "id": "92090c76",
   "metadata": {},
   "outputs": [
    {
     "data": {
      "text/plain": [
       "array([[-1.53132673, -0.68066283],\n",
       "       [-0.93361806, -1.20829731],\n",
       "       [ 1.64736605,  0.70797482],\n",
       "       [-1.48393859, -1.24579377],\n",
       "       [-0.07852641,  0.10200344]])"
      ]
     },
     "execution_count": 18,
     "metadata": {},
     "output_type": "execute_result"
    }
   ],
   "source": [
    "np.random.randn(5,2)"
   ]
  },
  {
   "cell_type": "code",
   "execution_count": 19,
   "id": "38223bae",
   "metadata": {},
   "outputs": [
    {
     "data": {
      "text/plain": [
       "array([[ 49,  94,  60,  74,  98],\n",
       "       [ 45,  99,  30,  56,  43],\n",
       "       [ 14,  99,  99,  65,  35],\n",
       "       [ 98,  66,   6, 100,  77]], dtype=int32)"
      ]
     },
     "execution_count": 19,
     "metadata": {},
     "output_type": "execute_result"
    }
   ],
   "source": [
    "np.random.randint(0,101,(4,5)) #gives an array of given shape with random values between 0-101\n",
    "                               #Syntax :- np.random.randint(lowerThreshold,maxThreshold(exclusive),(rows,columns))"
   ]
  },
  {
   "cell_type": "code",
   "execution_count": 22,
   "id": "48fb6b84",
   "metadata": {},
   "outputs": [
    {
     "data": {
      "text/plain": [
       "array([0.37454012, 0.95071431, 0.73199394, 0.59865848])"
      ]
     },
     "execution_count": 22,
     "metadata": {},
     "output_type": "execute_result"
    }
   ],
   "source": [
    "np.random.seed(42)\n",
    "np.random.rand(4)  #this will always generate same random number"
   ]
  },
  {
   "cell_type": "code",
   "execution_count": 24,
   "id": "ee867d9e",
   "metadata": {},
   "outputs": [
    {
     "data": {
      "text/plain": [
       "array([[ 0,  1,  2,  3,  4],\n",
       "       [ 5,  6,  7,  8,  9],\n",
       "       [10, 11, 12, 13, 14],\n",
       "       [15, 16, 17, 18, 19],\n",
       "       [20, 21, 22, 23, 24]])"
      ]
     },
     "execution_count": 24,
     "metadata": {},
     "output_type": "execute_result"
    }
   ],
   "source": [
    "arr = np.arange(25)\n",
    "arr.reshape(5,5)"
   ]
  },
  {
   "cell_type": "code",
   "execution_count": null,
   "id": "12f93170",
   "metadata": {},
   "outputs": [],
   "source": [
    "ranarr = np.random.randint(0,101,10)\n",
    "ranarr\n",
    "ranarr.max() #returns maximum value from array\n",
    "ranarr.min() #returns minimum value from array\n",
    "ranarr.argmax() #returns index of max value\n",
    "ranarr.argmin() #returns index of min value\n",
    "ranarr.dtype #returns data type of array\n",
    "\n",
    "# we can get the shape of an array by using arr.shape attribute"
   ]
  }
 ],
 "metadata": {
  "kernelspec": {
   "display_name": "env1",
   "language": "python",
   "name": "python3"
  },
  "language_info": {
   "codemirror_mode": {
    "name": "ipython",
    "version": 3
   },
   "file_extension": ".py",
   "mimetype": "text/x-python",
   "name": "python",
   "nbconvert_exporter": "python",
   "pygments_lexer": "ipython3",
   "version": "3.13.4"
  }
 },
 "nbformat": 4,
 "nbformat_minor": 5
}
