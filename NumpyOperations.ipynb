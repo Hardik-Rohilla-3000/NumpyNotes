{
 "cells": [
  {
   "cell_type": "code",
   "execution_count": 1,
   "id": "b3348e1a",
   "metadata": {},
   "outputs": [
    {
     "name": "stderr",
     "output_type": "stream",
     "text": [
      "C:\\Users\\hardi\\AppData\\Local\\Temp\\ipykernel_9272\\868259533.py:5: RuntimeWarning: invalid value encountered in divide\n",
      "  arr / arr #this will give a result but will give a warning warning\n"
     ]
    },
    {
     "data": {
      "text/plain": [
       "array([nan,  1.,  1.,  1.,  1.,  1.,  1.,  1.,  1.,  1.])"
      ]
     },
     "execution_count": 1,
     "metadata": {},
     "output_type": "execute_result"
    }
   ],
   "source": [
    "import numpy as np\n",
    "arr = np.arange(0,10)\n",
    "arr + 5   #this will add 5 to all the elements of an array\n",
    "arr + arr #we can all arithmetic operations on arrays provided shape of both array is same\n",
    "arr / arr #this will give a result but will give a warning warning"
   ]
  },
  {
   "cell_type": "code",
   "execution_count": 3,
   "id": "0c596736",
   "metadata": {},
   "outputs": [
    {
     "name": "stderr",
     "output_type": "stream",
     "text": [
      "C:\\Users\\hardi\\AppData\\Local\\Temp\\ipykernel_9272\\2129272834.py:3: RuntimeWarning: divide by zero encountered in log\n",
      "  np.log(arr)\n"
     ]
    },
    {
     "data": {
      "text/plain": [
       "np.int64(9)"
      ]
     },
     "execution_count": 3,
     "metadata": {},
     "output_type": "execute_result"
    }
   ],
   "source": [
    "np.sqrt(arr)\n",
    "np.sin(arr)\n",
    "np.log(arr)\n",
    "arr.sum()\n",
    "arr.mean()\n",
    "arr.max()"
   ]
  },
  {
   "cell_type": "code",
   "execution_count": null,
   "id": "c1aa203f",
   "metadata": {},
   "outputs": [],
   "source": [
    "#operations on 2D array\n",
    "arr2D = np.arange(0,25).reshape(5,5)\n",
    "arr2D.sum() #sum of all the elements\n",
    "arr2D.sum(axis=0) #sum of elements across all the rows i.e sum of columns\n",
    "arr2D.sum(axis=1) #sum of elements across all the columns i.e sum of rows"
   ]
  }
 ],
 "metadata": {
  "kernelspec": {
   "display_name": "env1",
   "language": "python",
   "name": "python3"
  },
  "language_info": {
   "codemirror_mode": {
    "name": "ipython",
    "version": 3
   },
   "file_extension": ".py",
   "mimetype": "text/x-python",
   "name": "python",
   "nbconvert_exporter": "python",
   "pygments_lexer": "ipython3",
   "version": "3.13.4"
  }
 },
 "nbformat": 4,
 "nbformat_minor": 5
}
